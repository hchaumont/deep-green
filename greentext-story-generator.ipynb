{
 "cells": [
  {
   "cell_type": "code",
   "execution_count": 1,
   "metadata": {
    "_cell_guid": "b1076dfc-b9ad-4769-8c92-a6c4dae69d19",
    "_uuid": "8f2839f25d086af736a60e9eeb907d3b93b6e0e5"
   },
   "outputs": [
    {
     "name": "stderr",
     "output_type": "stream",
     "text": [
      "Using TensorFlow backend.\n"
     ]
    }
   ],
   "source": [
    "import os\n",
    "from keras.models import Sequential\n",
    "from keras.callbacks import LambdaCallback, ModelCheckpoint\n",
    "from keras.layers import Dense\n",
    "from keras.layers import LSTM\n",
    "from keras.layers import BatchNormalization\n",
    "from keras.layers import Dropout\n",
    "from keras.optimizers import Adam\n",
    "import numpy as np\n",
    "import matplotlib.pyplot as plt\n",
    "import random\n",
    "import sys\n",
    "import io"
   ]
  },
  {
   "cell_type": "markdown",
   "metadata": {
    "_uuid": "f09cf79adc16287a0149f5ff39c2ee2912aeccf9"
   },
   "source": [
    "# Generating text using 4chan greentext stories.\n",
    "\n",
    "I've scraped a bunch of greentext from the archives of 4chan's /r9k/ (Robot9001) and /fit/ (Fitness) boards. We'd like to train a char-RNN on this data to see what kind of text a neural network can generate.\n",
    "\n",
    "Given a sequence of text from /r9k/, we'd like to train the neural network to \"guess\" the most likely next character in the sequence. For example, if we were to feed in the sequence *>be m*, the RNN would output a probability distribution on characters where the most likely one is *e*.\n",
    "\n",
    "To turn the scraped text into data that can be used to train the network, we'll split the text into a collection of overlapping sequences of a fixed length. The idea is to feed in the characters of the sequence and then have the network try to guess the next character after the sequence. \n",
    "\n",
    "We one-hot encode the characters so that they can be fed to the network.\n",
    "\n",
    "The text processing steps are based on the char-RNN example in the keras examples and the network architecture is loosly inspired by the many char-RNN architectures out there."
   ]
  },
  {
   "cell_type": "code",
   "execution_count": 2,
   "metadata": {
    "_uuid": "8ab3892aac8509c468197f4dbe0f8297a0e8a4ad"
   },
   "outputs": [],
   "source": [
    "# Turn the corpus into a collection of labelled training examples.\n",
    "\n",
    "def process_text(path, maxlen, step):\n",
    "    with io.open(path, encoding='utf-8') as f:\n",
    "        text = f.read().lower()\n",
    "    print('Corpus length:', len(text))\n",
    "    \n",
    "    chars = sorted(list(set(text)))\n",
    "    print('Distinct characters:', len(chars))\n",
    "    print(chars)\n",
    "    \n",
    "    # Maps to convert characters to indices and back. \n",
    "    char_indices = dict((c,i) for i, c in enumerate(chars))\n",
    "    indices_char = dict((i,c) for i, c in enumerate(chars))\n",
    "    \n",
    "    # We'll create labelled training data by feeding in the sequence of characters in\n",
    "    # a chunk of the text of size maxlen. The next character in the text will be the label.\n",
    "    sentences = []\n",
    "    next_chars = []\n",
    "    for i in range(0, len(text) - maxlen, step):\n",
    "        sentences.append(text[i: i + maxlen])\n",
    "        next_chars.append(text[i + maxlen])\n",
    "    print('Number of sequences:', len(sentences))\n",
    "    \n",
    "    # One-hot encode the characters\n",
    "    X = np.zeros((len(sentences), maxlen, len(chars)), dtype = np.bool)\n",
    "    y = np.zeros((len(sentences),len(chars)), dtype = np.bool)\n",
    "    for i, sentence in enumerate(sentences):\n",
    "        for j, char in enumerate(sentence):\n",
    "            X[i, j, char_indices[char]] = 1\n",
    "        y[i, char_indices[next_chars[i]]] = 1\n",
    "    \n",
    "    return char_indices, indices_char, X, y, text\n",
    "    "
   ]
  },
  {
   "cell_type": "code",
   "execution_count": 3,
   "metadata": {
    "_uuid": "9917e4e75ac9018339b349cf9ed0eebcd21e50f2"
   },
   "outputs": [
    {
     "name": "stdout",
     "output_type": "stream",
     "text": [
      "Corpus length: 2603064\n",
      "Distinct characters: 71\n",
      "['\\n', ' ', '!', '\"', '#', '$', '%', '&', \"'\", '(', ')', '*', '+', ',', '-', '.', '/', '0', '1', '2', '3', '4', '5', '6', '7', '8', '9', ':', ';', '<', '=', '>', '?', '@', '[', '\\\\', ']', '^', '_', '`', 'a', 'b', 'c', 'd', 'e', 'f', 'g', 'h', 'i', 'j', 'k', 'l', 'm', 'n', 'o', 'p', 'q', 'r', 's', 't', 'u', 'v', 'w', 'x', 'y', 'z', '|', '~', '’', '“', '”']\n",
      "Number of sequences: 867675\n"
     ]
    }
   ],
   "source": [
    "path_r9k = '../input/green.txt'\n",
    "#path_fit = '../input/fit_green.txt'\n",
    "\n",
    "r9k_char_indices, r9k_indices_char, X_r9k, y_r9k, text_r9k = process_text(path_r9k, 40, 3)\n",
    "#fit_char_indices, fit_indices_char, X_fit, y_fit, text_fit = process_text(path_fit, 40, 3)"
   ]
  },
  {
   "cell_type": "code",
   "execution_count": 4,
   "metadata": {
    "_uuid": "093e1ef4eb6d0f43fb074a9cdea6040be5f2cee7"
   },
   "outputs": [],
   "source": [
    "# Functions to generate text\n",
    "\n",
    "def sample(preds, temperature=1.0):\n",
    "    # helper function to sample an index from a probability array\n",
    "    preds = np.asarray(preds).astype('float64')\n",
    "    preds = np.log(preds) / temperature\n",
    "    exp_preds = np.exp(preds)\n",
    "    preds = exp_preds / np.sum(exp_preds)\n",
    "    probas = np.random.multinomial(1, preds, 1)\n",
    "    return np.argmax(probas)\n",
    "\n",
    "def generate_text(model, maxlen, text, char_indices, indices_char, temperature, length):\n",
    "    start_index = random.randint(0, len(text) - maxlen - 1)\n",
    "    generated = ''\n",
    "    sentence = text[start_index: start_index + maxlen]\n",
    "    generated += sentence\n",
    "    print('----- Generating with seed: \"' + sentence + '\"')\n",
    "    sys.stdout.write(generated)\n",
    "\n",
    "    for i in range(length):\n",
    "        x_pred = np.zeros((1, maxlen, len(char_indices)))\n",
    "        for t, char in enumerate(sentence):\n",
    "            x_pred[0, t, char_indices[char]] = 1.\n",
    "\n",
    "        preds = model.predict(x_pred, verbose=0)[0]\n",
    "        next_index = sample(preds, temperature)\n",
    "        next_char = indices_char[next_index]\n",
    "\n",
    "        generated += next_char\n",
    "        sentence = sentence[1:] + next_char\n",
    "        \n",
    "        sys.stdout.write(next_char)\n",
    "        sys.stdout.flush()\n",
    "\n",
    "    print()"
   ]
  },
  {
   "cell_type": "code",
   "execution_count": 5,
   "metadata": {
    "_uuid": "f908679aadab1f7076a96894ae4b9097c1b15520"
   },
   "outputs": [
    {
     "name": "stdout",
     "output_type": "stream",
     "text": [
      "_________________________________________________________________\n",
      "Layer (type)                 Output Shape              Param #   \n",
      "=================================================================\n",
      "lstm_1 (LSTM)                (None, 40, 256)           335872    \n",
      "_________________________________________________________________\n",
      "batch_normalization_1 (Batch (None, 40, 256)           1024      \n",
      "_________________________________________________________________\n",
      "lstm_2 (LSTM)                (None, 128)               197120    \n",
      "_________________________________________________________________\n",
      "batch_normalization_2 (Batch (None, 128)               512       \n",
      "_________________________________________________________________\n",
      "dense_1 (Dense)              (None, 71)                9159      \n",
      "=================================================================\n",
      "Total params: 543,687\n",
      "Trainable params: 542,919\n",
      "Non-trainable params: 768\n",
      "_________________________________________________________________\n"
     ]
    }
   ],
   "source": [
    "# Basic model: 2 LSTM layers\n",
    "SEQLEN, CHARS = 40, len(r9k_char_indices)\n",
    "\n",
    "model = Sequential()\n",
    "model.add(LSTM(256, input_shape=(SEQLEN, CHARS), return_sequences=True))\n",
    "model.add(BatchNormalization())\n",
    "model.add(LSTM(128))\n",
    "model.add(BatchNormalization())\n",
    "model.add(Dense(CHARS, activation='softmax'))\n",
    "model.compile(loss='categorical_crossentropy', optimizer=Adam(lr=0.004))\n",
    "model.summary()"
   ]
  },
  {
   "cell_type": "markdown",
   "metadata": {
    "_uuid": "241637aedbbd7882be1caa6a6a1ca99784097780"
   },
   "source": [
    "### We'll keep track of the state of the model with the lowest training loss and validation loss."
   ]
  },
  {
   "cell_type": "code",
   "execution_count": 6,
   "metadata": {
    "_uuid": "7f40ca73908881bfd3fe487a180aed977e2b7936"
   },
   "outputs": [],
   "source": [
    "r9k_weights_best_val = 'r9k_best_val_weights.hdf5'\n",
    "r9k_weights_best_loss = 'r9k_best_loss_weights.hdf5'\n",
    "checkpoint_val = ModelCheckpoint(filepath=r9k_weights_best_val,\n",
    "                                 monitor='val_loss',\n",
    "                                 verbose=1,\n",
    "                                 save_best_only=True,\n",
    "                                 mode='min')\n",
    "checkpoint_loss = ModelCheckpoint(filepath=r9k_weights_best_loss,\n",
    "                                 monitor='loss',\n",
    "                                 verbose=1,\n",
    "                                 save_best_only=True,\n",
    "                                 mode='min')"
   ]
  },
  {
   "cell_type": "markdown",
   "metadata": {
    "_uuid": "b7c8880b652fadafba1ed7779a10471274eaa08b"
   },
   "source": [
    "### Train for 40 epochs"
   ]
  },
  {
   "cell_type": "code",
   "execution_count": 7,
   "metadata": {
    "_uuid": "63bb61b09f70f3e87f50ddbd5e83be1968dfecda"
   },
   "outputs": [
    {
     "name": "stdout",
     "output_type": "stream",
     "text": [
      "Train on 780907 samples, validate on 86768 samples\n",
      "Epoch 1/40\n",
      " - 193s - loss: 2.0424 - val_loss: 2.2265\n",
      "\n",
      "Epoch 00001: val_loss improved from inf to 2.22646, saving model to r9k_best_val_weights.hdf5\n",
      "\n",
      "Epoch 00001: loss improved from inf to 2.04240, saving model to r9k_best_loss_weights.hdf5\n",
      "Epoch 2/40\n",
      " - 188s - loss: 1.6939 - val_loss: 1.7364\n",
      "\n",
      "Epoch 00002: val_loss improved from 2.22646 to 1.73640, saving model to r9k_best_val_weights.hdf5\n",
      "\n",
      "Epoch 00002: loss improved from 2.04240 to 1.69394, saving model to r9k_best_loss_weights.hdf5\n",
      "Epoch 3/40\n",
      " - 188s - loss: 1.6043 - val_loss: 1.6554\n",
      "\n",
      "Epoch 00003: val_loss improved from 1.73640 to 1.65538, saving model to r9k_best_val_weights.hdf5\n",
      "\n",
      "Epoch 00003: loss improved from 1.69394 to 1.60430, saving model to r9k_best_loss_weights.hdf5\n",
      "Epoch 4/40\n",
      " - 188s - loss: 1.5508 - val_loss: 1.6363\n",
      "\n",
      "Epoch 00004: val_loss improved from 1.65538 to 1.63630, saving model to r9k_best_val_weights.hdf5\n",
      "\n",
      "Epoch 00004: loss improved from 1.60430 to 1.55084, saving model to r9k_best_loss_weights.hdf5\n",
      "Epoch 5/40\n",
      " - 188s - loss: 1.5126 - val_loss: 1.6189\n",
      "\n",
      "Epoch 00005: val_loss improved from 1.63630 to 1.61887, saving model to r9k_best_val_weights.hdf5\n",
      "\n",
      "Epoch 00005: loss improved from 1.55084 to 1.51264, saving model to r9k_best_loss_weights.hdf5\n",
      "Epoch 6/40\n",
      " - 188s - loss: 1.4818 - val_loss: 1.6167\n",
      "\n",
      "Epoch 00006: val_loss improved from 1.61887 to 1.61669, saving model to r9k_best_val_weights.hdf5\n",
      "\n",
      "Epoch 00006: loss improved from 1.51264 to 1.48179, saving model to r9k_best_loss_weights.hdf5\n",
      "Epoch 7/40\n",
      " - 188s - loss: 1.4556 - val_loss: 1.5803\n",
      "\n",
      "Epoch 00007: val_loss improved from 1.61669 to 1.58027, saving model to r9k_best_val_weights.hdf5\n",
      "\n",
      "Epoch 00007: loss improved from 1.48179 to 1.45563, saving model to r9k_best_loss_weights.hdf5\n",
      "Epoch 8/40\n",
      " - 188s - loss: 1.4320 - val_loss: 1.5547\n",
      "\n",
      "Epoch 00008: val_loss improved from 1.58027 to 1.55474, saving model to r9k_best_val_weights.hdf5\n",
      "\n",
      "Epoch 00008: loss improved from 1.45563 to 1.43202, saving model to r9k_best_loss_weights.hdf5\n",
      "Epoch 9/40\n",
      " - 188s - loss: 1.4103 - val_loss: 1.5533\n",
      "\n",
      "Epoch 00009: val_loss improved from 1.55474 to 1.55328, saving model to r9k_best_val_weights.hdf5\n",
      "\n",
      "Epoch 00009: loss improved from 1.43202 to 1.41030, saving model to r9k_best_loss_weights.hdf5\n",
      "Epoch 10/40\n",
      " - 188s - loss: 1.3901 - val_loss: 1.5506\n",
      "\n",
      "Epoch 00010: val_loss improved from 1.55328 to 1.55060, saving model to r9k_best_val_weights.hdf5\n",
      "\n",
      "Epoch 00010: loss improved from 1.41030 to 1.39011, saving model to r9k_best_loss_weights.hdf5\n",
      "Epoch 11/40\n",
      " - 188s - loss: 1.3706 - val_loss: 1.5572\n",
      "\n",
      "Epoch 00011: val_loss did not improve from 1.55060\n",
      "\n",
      "Epoch 00011: loss improved from 1.39011 to 1.37064, saving model to r9k_best_loss_weights.hdf5\n",
      "Epoch 12/40\n",
      " - 188s - loss: 1.3520 - val_loss: 1.5590\n",
      "\n",
      "Epoch 00012: val_loss did not improve from 1.55060\n",
      "\n",
      "Epoch 00012: loss improved from 1.37064 to 1.35203, saving model to r9k_best_loss_weights.hdf5\n",
      "Epoch 13/40\n",
      " - 188s - loss: 1.3350 - val_loss: 1.5641\n",
      "\n",
      "Epoch 00013: val_loss did not improve from 1.55060\n",
      "\n",
      "Epoch 00013: loss improved from 1.35203 to 1.33502, saving model to r9k_best_loss_weights.hdf5\n",
      "Epoch 14/40\n",
      " - 188s - loss: 1.3196 - val_loss: 1.5578\n",
      "\n",
      "Epoch 00014: val_loss did not improve from 1.55060\n",
      "\n",
      "Epoch 00014: loss improved from 1.33502 to 1.31956, saving model to r9k_best_loss_weights.hdf5\n",
      "Epoch 15/40\n",
      " - 189s - loss: 1.3049 - val_loss: 1.5574\n",
      "\n",
      "Epoch 00015: val_loss did not improve from 1.55060\n",
      "\n",
      "Epoch 00015: loss improved from 1.31956 to 1.30490, saving model to r9k_best_loss_weights.hdf5\n",
      "Epoch 16/40\n",
      " - 189s - loss: 1.2896 - val_loss: 1.5570\n",
      "\n",
      "Epoch 00016: val_loss did not improve from 1.55060\n",
      "\n",
      "Epoch 00016: loss improved from 1.30490 to 1.28965, saving model to r9k_best_loss_weights.hdf5\n",
      "Epoch 17/40\n",
      " - 188s - loss: 1.2754 - val_loss: 1.5565\n",
      "\n",
      "Epoch 00017: val_loss did not improve from 1.55060\n",
      "\n",
      "Epoch 00017: loss improved from 1.28965 to 1.27536, saving model to r9k_best_loss_weights.hdf5\n",
      "Epoch 18/40\n",
      " - 189s - loss: 1.2619 - val_loss: 1.5613\n",
      "\n",
      "Epoch 00018: val_loss did not improve from 1.55060\n",
      "\n",
      "Epoch 00018: loss improved from 1.27536 to 1.26191, saving model to r9k_best_loss_weights.hdf5\n",
      "Epoch 19/40\n",
      " - 189s - loss: 1.2479 - val_loss: 1.5636\n",
      "\n",
      "Epoch 00019: val_loss did not improve from 1.55060\n",
      "\n",
      "Epoch 00019: loss improved from 1.26191 to 1.24794, saving model to r9k_best_loss_weights.hdf5\n",
      "Epoch 20/40\n",
      " - 189s - loss: 1.2370 - val_loss: 1.5633\n",
      "\n",
      "Epoch 00020: val_loss did not improve from 1.55060\n",
      "\n",
      "Epoch 00020: loss improved from 1.24794 to 1.23700, saving model to r9k_best_loss_weights.hdf5\n",
      "Epoch 21/40\n",
      " - 189s - loss: 1.2258 - val_loss: 1.5617\n",
      "\n",
      "Epoch 00021: val_loss did not improve from 1.55060\n",
      "\n",
      "Epoch 00021: loss improved from 1.23700 to 1.22583, saving model to r9k_best_loss_weights.hdf5\n",
      "Epoch 22/40\n",
      " - 188s - loss: 1.2154 - val_loss: 1.5732\n",
      "\n",
      "Epoch 00022: val_loss did not improve from 1.55060\n",
      "\n",
      "Epoch 00022: loss improved from 1.22583 to 1.21539, saving model to r9k_best_loss_weights.hdf5\n",
      "Epoch 23/40\n",
      " - 189s - loss: 1.2041 - val_loss: 1.5785\n",
      "\n",
      "Epoch 00023: val_loss did not improve from 1.55060\n",
      "\n",
      "Epoch 00023: loss improved from 1.21539 to 1.20412, saving model to r9k_best_loss_weights.hdf5\n",
      "Epoch 24/40\n",
      " - 188s - loss: 1.1942 - val_loss: 1.5880\n",
      "\n",
      "Epoch 00024: val_loss did not improve from 1.55060\n",
      "\n",
      "Epoch 00024: loss improved from 1.20412 to 1.19425, saving model to r9k_best_loss_weights.hdf5\n",
      "Epoch 25/40\n",
      " - 189s - loss: 1.1848 - val_loss: 1.6023\n",
      "\n",
      "Epoch 00025: val_loss did not improve from 1.55060\n",
      "\n",
      "Epoch 00025: loss improved from 1.19425 to 1.18477, saving model to r9k_best_loss_weights.hdf5\n",
      "Epoch 26/40\n",
      " - 189s - loss: 1.1767 - val_loss: 1.6046\n",
      "\n",
      "Epoch 00026: val_loss did not improve from 1.55060\n",
      "\n",
      "Epoch 00026: loss improved from 1.18477 to 1.17673, saving model to r9k_best_loss_weights.hdf5\n",
      "Epoch 27/40\n",
      " - 189s - loss: 1.1668 - val_loss: 1.6081\n",
      "\n",
      "Epoch 00027: val_loss did not improve from 1.55060\n",
      "\n",
      "Epoch 00027: loss improved from 1.17673 to 1.16684, saving model to r9k_best_loss_weights.hdf5\n",
      "Epoch 28/40\n",
      " - 189s - loss: 1.1587 - val_loss: 1.6184\n",
      "\n",
      "Epoch 00028: val_loss did not improve from 1.55060\n",
      "\n",
      "Epoch 00028: loss improved from 1.16684 to 1.15874, saving model to r9k_best_loss_weights.hdf5\n",
      "Epoch 29/40\n",
      " - 189s - loss: 1.1515 - val_loss: 1.6206\n",
      "\n",
      "Epoch 00029: val_loss did not improve from 1.55060\n",
      "\n",
      "Epoch 00029: loss improved from 1.15874 to 1.15154, saving model to r9k_best_loss_weights.hdf5\n",
      "Epoch 30/40\n",
      " - 189s - loss: 1.1433 - val_loss: 1.6264\n",
      "\n",
      "Epoch 00030: val_loss did not improve from 1.55060\n",
      "\n",
      "Epoch 00030: loss improved from 1.15154 to 1.14326, saving model to r9k_best_loss_weights.hdf5\n",
      "Epoch 31/40\n",
      " - 189s - loss: 1.1360 - val_loss: 1.6355\n",
      "\n",
      "Epoch 00031: val_loss did not improve from 1.55060\n",
      "\n",
      "Epoch 00031: loss improved from 1.14326 to 1.13597, saving model to r9k_best_loss_weights.hdf5\n",
      "Epoch 32/40\n",
      " - 189s - loss: 1.1284 - val_loss: 1.6494\n",
      "\n",
      "Epoch 00032: val_loss did not improve from 1.55060\n",
      "\n",
      "Epoch 00032: loss improved from 1.13597 to 1.12836, saving model to r9k_best_loss_weights.hdf5\n",
      "Epoch 33/40\n",
      " - 189s - loss: 1.1220 - val_loss: 1.6581\n",
      "\n",
      "Epoch 00033: val_loss did not improve from 1.55060\n",
      "\n",
      "Epoch 00033: loss improved from 1.12836 to 1.12199, saving model to r9k_best_loss_weights.hdf5\n",
      "Epoch 34/40\n",
      " - 189s - loss: 1.1154 - val_loss: 1.6656\n",
      "\n",
      "Epoch 00034: val_loss did not improve from 1.55060\n",
      "\n",
      "Epoch 00034: loss improved from 1.12199 to 1.11537, saving model to r9k_best_loss_weights.hdf5\n",
      "Epoch 35/40\n",
      " - 189s - loss: 1.1089 - val_loss: 1.6660\n",
      "\n",
      "Epoch 00035: val_loss did not improve from 1.55060\n",
      "\n",
      "Epoch 00035: loss improved from 1.11537 to 1.10892, saving model to r9k_best_loss_weights.hdf5\n",
      "Epoch 36/40\n",
      " - 189s - loss: 1.1039 - val_loss: 1.6706\n",
      "\n",
      "Epoch 00036: val_loss did not improve from 1.55060\n",
      "\n",
      "Epoch 00036: loss improved from 1.10892 to 1.10386, saving model to r9k_best_loss_weights.hdf5\n",
      "Epoch 37/40\n",
      " - 189s - loss: 1.0998 - val_loss: 1.6606\n",
      "\n",
      "Epoch 00037: val_loss did not improve from 1.55060\n",
      "\n",
      "Epoch 00037: loss improved from 1.10386 to 1.09982, saving model to r9k_best_loss_weights.hdf5\n",
      "Epoch 38/40\n",
      " - 189s - loss: 1.0955 - val_loss: 1.6709\n",
      "\n",
      "Epoch 00038: val_loss did not improve from 1.55060\n",
      "\n",
      "Epoch 00038: loss improved from 1.09982 to 1.09549, saving model to r9k_best_loss_weights.hdf5\n",
      "Epoch 39/40\n",
      " - 189s - loss: 1.0876 - val_loss: 1.6784\n",
      "\n",
      "Epoch 00039: val_loss did not improve from 1.55060\n",
      "\n",
      "Epoch 00039: loss improved from 1.09549 to 1.08758, saving model to r9k_best_loss_weights.hdf5\n",
      "Epoch 40/40\n",
      " - 189s - loss: 1.0804 - val_loss: 1.6907\n",
      "\n",
      "Epoch 00040: val_loss did not improve from 1.55060\n",
      "\n",
      "Epoch 00040: loss improved from 1.08758 to 1.08039, saving model to r9k_best_loss_weights.hdf5\n"
     ]
    }
   ],
   "source": [
    "history_r9k = model.fit(X_r9k, y_r9k,\n",
    "                        batch_size=2048,\n",
    "                        epochs=40,\n",
    "                        validation_split=.1,\n",
    "                        verbose=2,\n",
    "                        shuffle=False,\n",
    "                        callbacks=[checkpoint_val, checkpoint_loss])"
   ]
  },
  {
   "cell_type": "markdown",
   "metadata": {
    "_uuid": "3d7faa614d3567350a22accc34ae26aefc8419bc"
   },
   "source": [
    "### Let's see how training went"
   ]
  },
  {
   "cell_type": "code",
   "execution_count": 8,
   "metadata": {
    "_uuid": "90f272774c74f38f7996a4767769e050fb2cb08a"
   },
   "outputs": [
    {
     "data": {
      "image/png": "[encoded data removed]",
      "text/plain": [
       "<Figure size 432x288 with 1 Axes>"
      ]
     },
     "metadata": {},
     "output_type": "display_data"
    }
   ],
   "source": [
    "plt.plot(history_r9k.history['loss'])\n",
    "plt.plot(history_r9k.history['val_loss'])\n",
    "plt.title('Training History')\n",
    "plt.ylabel('loss')\n",
    "plt.xlabel('epoch')\n",
    "plt.legend(['Training Loss', 'Validation Loss'], loc='upper right')\n",
    "plt.show()"
   ]
  },
  {
   "cell_type": "markdown",
   "metadata": {
    "_uuid": "bbda9f2ec8fabb473ceef0eea87056587ca724b4"
   },
   "source": [
    "### Sample text after the training"
   ]
  },
  {
   "cell_type": "code",
   "execution_count": 9,
   "metadata": {
    "_uuid": "f2830dc12616b8ec12f7f3083c072a6d0d96193e"
   },
   "outputs": [
    {
     "name": "stdout",
     "output_type": "stream",
     "text": [
      "----- Generating with seed: \"ners\n",
      ">get out\n",
      ">didnt notice car that was\"\n",
      "ners\n",
      ">get out\n",
      ">didnt notice car that was a special but if yes\n",
      ">she is expenside them about there has a female and says \"you have to bury orbidished or husband\" as shert to school mics\n",
      "\n",
      ">tell me her walls shy\n",
      "\n",
      ">be me\n",
      ">be online fantasien\n",
      ">grab my classmates\n",
      ">masturbodd smokes shit still goals me for a cup back cheesbagning, anon: trapped\n",
      ">turns of cheap me like to college\n",
      ">notward all less texts\n",
      ">how instantly weighs eaving?\n",
      ">what do you text my paped\n",
      ">going to dring\n",
      ">news from my eviceface\n",
      ">hes again sfully deep up the familteks\n",
      ">drugs, crotted to my bed rigges to get an interestment instantly\n",
      ">i'm not\n",
      ">idencitive flesbans\n",
      ">husbandojo's animal circummists she was his taxi\n",
      "\n",
      ">i decidy \n",
      ">he's directly want your field her my roommate girls\n",
      ">we ranagrancingle for on hard\n",
      ">listening to a cunt for a word but launch and enter close\n",
      ">will can't try to clean date numbers\n",
      ">nonarly populary sometimes used one the united and why?\n",
      ">would you like your parents isn't apologin reaction\n",
      ">can't even have a few years of my grand for and being n\n"
     ]
    }
   ],
   "source": [
    "model.save_weights('end_weights.hd5')\n",
    "generate_text(model, SEQLEN, text_r9k, r9k_char_indices, r9k_indices_char, 1.0, 1000)"
   ]
  },
  {
   "cell_type": "code",
   "execution_count": 10,
   "metadata": {
    "_uuid": "af4cb1e565250451b7b848a28c2ebd9ccc26fb38"
   },
   "outputs": [
    {
     "name": "stdout",
     "output_type": "stream",
     "text": [
      "----- Generating with seed: \"ays you're a bad influence\"\n",
      ">at this poi\"\n",
      "ays you're a bad influence\"\n",
      ">at this point i still there are day and i just got into shaft joins white are is flirting of times as a what bicker died\n",
      ">move towers unbelsting from her skills\n",
      ">eyebrown shore-lien during feed unist never mention hid, able and spent a chin dorm\n",
      ">in come over\n",
      "\n",
      ">19\n",
      ">grand schools builty and end up history of them not be drunk. rude to feel not done still the centrestism\n",
      ">her jot and cant remember that her\n",
      ">fuckyple to kill all alone\n",
      ">i just wanted about 5 years ago\n",
      ">start dating behind a job and meme up in the ecasuage their mix ontentially gives me the shower\n",
      ">the terrorone my health must have two only asigns to class and then i was to plsy\n",
      "> fembot and we never had\n",
      ">come with passes and tell him in cold\n",
      ">sorry weighen don't hear her warm\n",
      ">angustiated and pick it all the djaning and passion.png\n",
      ">be me\n",
      ">tells me i'm a gay punchanged with incels\n",
      ">''in a change talk \n",
      ">start getting back to a day and all obseas\n",
      ">muschless everything with a feet her\n",
      ">tell her to arriffi-hting to me\n",
      ">be me\n",
      ">170 \n",
      ">text \n"
     ]
    }
   ],
   "source": [
    "# With a slightly lower temperature.\n",
    "generate_text(model, SEQLEN, text_r9k, r9k_char_indices, r9k_indices_char, 0.8, 1000)"
   ]
  },
  {
   "cell_type": "markdown",
   "metadata": {
    "_uuid": "ad02d3e0144ef0a5f681ec5a26358eecca7dd37c"
   },
   "source": [
    "### Sample text from model with best training loss\n",
    "Is the generated text the best when the model starts to over-train?"
   ]
  },
  {
   "cell_type": "code",
   "execution_count": 11,
   "metadata": {
    "_uuid": "519822fd4da8f496f6e091196153a929c85e5071"
   },
   "outputs": [
    {
     "name": "stdout",
     "output_type": "stream",
     "text": [
      "----- Generating with seed: \", 2009\n",
      ">this actually happened\n",
      ">pic unre\"\n",
      ", 2009\n",
      ">this actually happened\n",
      ">pic unrelasts and criminally untally ass about anyone on 4chan\n",
      "\n",
      ">car?\n",
      ">do you know and probably leave\n",
      ">can fuck closed\n",
      ">just hair colon to to my cute but never have been do in the people\n",
      ">indiet\n",
      ">there's a teacher\n",
      ">she fell in longer how things you've no one never if i'm tench in any\n",
      ">mfw\n",
      "\n",
      ">a without anxious in the villa, shit\n",
      ">learn an alcoholic and single dumpsying of tesk them beers as i uched it\n",
      ">i'm sonance at her about ago get a runs\n",
      ">cant aut friends like just kisses me to like whats working is an adult dump't\n",
      ">he feel walks up voice and deserves arguing\n",
      ">go to old friend > o been almost every day\n",
      ">soberal another place of bad.exv\n",
      ">180m svicingly\n",
      ">neaton your sexual inline classmates and no\n",
      ">after i was we starts but if i would nicen\n",
      ">shes be cithis aren't level in sounds\n",
      ">tells me she is all the intense around with me\n",
      ">after the probably not having any kind whats anongreeses than aifu\n",
      ">don't want to tescons\n",
      "\n",
      ">i didn't want to give years ugly\n",
      ">shit terred\n",
      ">another skus why is super seco\n"
     ]
    }
   ],
   "source": [
    "model.load_weights(r9k_weights_best_loss)\n",
    "generate_text(model, SEQLEN, text_r9k, r9k_char_indices, r9k_indices_char, 1.0, 1000)"
   ]
  },
  {
   "cell_type": "code",
   "execution_count": 12,
   "metadata": {
    "_uuid": "47f85a987b74d34cb9a406b6d59b81af02f5a95c"
   },
   "outputs": [
    {
     "name": "stdout",
     "output_type": "stream",
     "text": [
      "----- Generating with seed: \"ch morning?\n",
      ">what excites you?\n",
      ">what are\"\n",
      "ch morning?\n",
      ">what excites you?\n",
      ">what areasound blood cashies, and rejected and play happened\n",
      ">see up away from her riding her was discussion in bathroom \n",
      ">built short working feminate slaves\n",
      ">get numbers\n",
      ">help of this rest of\n",
      ">she text her out of the tests fealth of, last year\n",
      ">sitting in a stream of them\n",
      "\n",
      ">jecked and finally assume shit\n",
      ">feels\n",
      ">the fucking weeks\n",
      ">quiet shes backed out of fress, he says she is going to me, she took me to usa car and all starts can shit and finally enjoy the middle of girlfriend of second, where i am enter humans and piss in the quathing again\n",
      ">shes very chees \n",
      ">get seutes\n",
      ">religious to make a girl as living bitch hands less an all me\n",
      "\n",
      ">mfw i can't ghosting me\n",
      ">in a bit credit for all over person intellectional decayed and and went to ask me on teich\n",
      ">still have a family\n",
      ">she wants to get to a nevitading because its are you pussy zuzi\n",
      ">le rest of the class\n",
      ">i decide to go to enugly grand\n",
      ">be talking about cheespear\n",
      ">she should screens as hatting now\n",
      ">graduated scream to share her trues)\n",
      ">some\n"
     ]
    }
   ],
   "source": [
    "generate_text(model, SEQLEN, text_r9k, r9k_char_indices, r9k_indices_char, 0.8, 1000)"
   ]
  },
  {
   "cell_type": "markdown",
   "metadata": {
    "_uuid": "9ed440d0b8fd252b8c6749da3704dac70efd21c5"
   },
   "source": [
    "### Sample text from model with best validation loss\n",
    "Or is performance better when the validation loss isn't as high?"
   ]
  },
  {
   "cell_type": "code",
   "execution_count": 13,
   "metadata": {
    "_uuid": "4bcb4dda07611ebf70c8f9343b33d102a9d15d66"
   },
   "outputs": [
    {
     "name": "stdout",
     "output_type": "stream",
     "text": [
      "----- Generating with seed: \"cade fighters lately\n",
      ">conversations abou\"\n",
      "cade fighters lately\n",
      ">conversations about your away carass\n",
      ">xand pain swing from her cuse to talking about literally virginy\n",
      ">prisonated left\n",
      ">spised off\n",
      ">i wast of shit stronic\n",
      ">it tuman stranged treats\n",
      ">suicid for in\n",
      ">she let uses them or stop for fear of shuhh ri grace\n",
      ">you are car\n",
      ">for a personal anxiety ev\" aluce is team\n",
      "\n",
      ">she dirtlate school\n",
      ">i reals the bathroom\n",
      ">asks me up, but i don't know what is fucking\n",
      ">nonwowh...\n",
      ">delive me is her\n",
      ">she were me i was\n",
      ">bropoling gain\n",
      ">have aglet schedul where i really in and she does the shit\n",
      ">walk your confused in the strun with shed one of the eause\n",
      "\n",
      ">stopping campossed traple your waifu my face\n",
      ">she because her when you believe you just rote off\n",
      ">a find after she has delusing chese main she's 12-years-hag and points or saying small deal while keep lince\n",
      "\n",
      ">have do yur guy\n",
      ">shown easy as \"humoriable disgusted of me of the hours\n",
      "\n",
      ">i'm what that her more\n",
      ">one word couldn't still never there\n",
      ">girls - the super there when she like. she has a autistic what is improves a chourca\n",
      ">kippo\n"
     ]
    }
   ],
   "source": [
    "model.load_weights(r9k_weights_best_val)\n",
    "generate_text(model, SEQLEN, text_r9k, r9k_char_indices, r9k_indices_char, 1.0, 1000)"
   ]
  },
  {
   "cell_type": "code",
   "execution_count": 14,
   "metadata": {
    "_uuid": "54a2a1adad760ffd9a2be945acc0fe95da400431"
   },
   "outputs": [
    {
     "name": "stdout",
     "output_type": "stream",
     "text": [
      "----- Generating with seed: \"owave things for if it isn't written on \"\n",
      "owave things for if it isn't written on the easien way\n",
      ">posting after i was an interactions something it's a while she has she wasn i fairs she lets flaching twice and i only because i stop school in all of the big plash from my run who favorite material she random medical class on loxing\n",
      ">noticer\n",
      ">turn around 14 to half of comfy?\n",
      ">where were her anyone and because you broke her and have no off\n",
      ">sheld turned me to close of my back ar and she's rations of the same anyways\n",
      ">but children is you look are in cool user is a long has a while mom\n",
      ">i'm i start anything, she's virgin\n",
      ">no cray\n",
      ">get all over the hours\n",
      ">we all your morner, white\n",
      ">she is, as a lot\n",
      "\n",
      ">was apor than anything\"\n",
      ">i have a fror the beginnt i there she's fast of the and leging about any femboye\n",
      ">twontable she was the only the dirtened resterpour today aunt in the strengips\n",
      "\n",
      ">be me\n",
      ">fine\"\n",
      ">we're as no men in a class!?\n",
      ">what is your waifu's of these feeling until use they are you are put in from my door\n",
      ">\"targing applying to stopgery for her\n",
      ">i was a with a time de\n"
     ]
    }
   ],
   "source": [
    "generate_text(model, SEQLEN, text_r9k, r9k_char_indices, r9k_indices_char, 0.8, 1000)"
   ]
  }
 ],
 "metadata": {
  "kernelspec": {
   "display_name": "Python 3",
   "language": "python",
   "name": "python3"
  },
  "language_info": {
   "codemirror_mode": {
    "name": "ipython",
    "version": 3
   },
   "file_extension": ".py",
   "mimetype": "text/x-python",
   "name": "python",
   "nbconvert_exporter": "python",
   "pygments_lexer": "ipython3",
   "version": "3.6.6"
  }
 },
 "nbformat": 4,
 "nbformat_minor": 1
}
